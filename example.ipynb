{
 "cells": [
  {
   "cell_type": "markdown",
   "metadata": {},
   "source": [
    "# Contract Generation"
   ]
  },
  {
   "cell_type": "code",
   "execution_count": 1,
   "metadata": {},
   "outputs": [],
   "source": [
    "import pandas as pd\n",
    "from io import StringIO\n",
    "from pathlib import Path\n",
    "from pydantic import BaseModel, Field\n",
    "from sklearn.metrics import accuracy_score\n",
    "from language_models.models.llm import OpenAILanguageModel\n",
    "from language_models.models.embedding import SentenceTransformerEmbeddingModel\n",
    "from language_models.agent import (\n",
    "    Agent,\n",
    "    Workflow,\n",
    "    WorkflowLLMStep,\n",
    "    OutputType,\n",
    "    PromptingStrategy,\n",
    ")\n",
    "from language_models.vector_stores import FAISSVectorStore, DistanceMetric\n",
    "from language_models.proxy_client import ProxyClient\n",
    "from language_models.settings import settings\n",
    "from langchain_core.documents import Document\n",
    "from langchain_text_splitters import RecursiveCharacterTextSplitter\n",
    "from langchain_community.document_loaders import PyPDFLoader"
   ]
  },
  {
   "cell_type": "code",
   "execution_count": 2,
   "metadata": {},
   "outputs": [],
   "source": [
    "proxy_client = ProxyClient(\n",
    "    client_id=settings.CLIENT_ID,\n",
    "    client_secret=settings.CLIENT_SECRET,\n",
    "    auth_url=settings.AUTH_URL,\n",
    "    api_base=settings.API_BASE,\n",
    ")"
   ]
  },
  {
   "cell_type": "markdown",
   "metadata": {},
   "source": []
  },
  {
   "cell_type": "code",
   "execution_count": 3,
   "metadata": {},
   "outputs": [],
   "source": [
    "system_prompt = \"\"\"You are an official at the U.S. Department of Defense, specifically responsible for overseeing the Defense Federal Acquisition Regulation (DFAR).\n",
    "\n",
    "Your primary task is to draft sections of defense contracts, ensuring they align with federal regulations and the strategic goals of the Department of Defense.\n",
    "\n",
    "Given specific context or requirements, you are expected to craft clear, precise, and legally sound contract language.\"\"\"\n",
    "\n",
    "prompt = \"\"\"Overall goal: {goal}\n",
    "\n",
    "Consider this context:\n",
    "{context}\"\"\"\n",
    "\n",
    "llm = OpenAILanguageModel(\n",
    "    proxy_client=proxy_client,\n",
    "    model='gpt-4',\n",
    "    max_tokens=2000,\n",
    "    temperature=0.2,\n",
    ")\n",
    "\n",
    "draft_contract_section = Agent.create(\n",
    "    llm=llm,\n",
    "    system_prompt=system_prompt,\n",
    "    prompt=prompt,\n",
    "    prompt_variables=[\"goal\", \"context\"],\n",
    "    output_type=OutputType.STRING,\n",
    "    prompting_strategy=PromptingStrategy.SINGLE_COMPLETION,\n",
    "    verbose=True,\n",
    ")"
   ]
  },
  {
   "cell_type": "markdown",
   "metadata": {},
   "source": []
  },
  {
   "cell_type": "code",
   "execution_count": 4,
   "metadata": {},
   "outputs": [
    {
     "name": "stdout",
     "output_type": "stream",
     "text": [
      "[Document(metadata={'source': './docs/DFARS.pdf', 'page': 0}, page_content='VOLUME  III-P ARTS 201 TO 253\\nDEFENSE\\nFEDERAL\\nACQUISITION\\nREGULATION\\nIssued Fiscal Year 2020 by the:'), Document(metadata={'source': './docs/DFARS.pdf', 'page': 2}, page_content='TITLE 48 - DEFENSE FEDERAL ACQUISITION REGULATIONS SYSTEM\\nChapter1\\nDEFENSE  FEDERAL  ACQUISITION  REGULATION\\nVolume I'), Document(metadata={'source': './docs/DFARS.pdf', 'page': 4}, page_content='DEFENSE FEDERAL ACQUISITION REGULATION\\nSUBCHAPTER  A  - GENERAL'), Document(metadata={'source': './docs/DFARS.pdf', 'page': 6}, page_content='DEFENSE FEDERAL ACQUISITION REGULATION\\nGeneral Structure and Subparts\\nSUBCHAPTER  A  - GENERAL\\nPART 201  - FEDERAL ACQUISITION REGULATIONS SYSTEM\\n201.1 PURPOSE, AUTHORITY, ISSUANCE\\n201.2 ADMINISTRATION\\n201.3 AGENCY ACQUISITION REGULATIONS\\n201.4 DEVIATIONS FROM THE FAR\\n201.6 CAREER DEVELOPMENT, CONTRACTING AUTHORITY, AND RESPONSIBILITIES\\nPART 202  - DEFINITIONS OF WORDS AND TERMS\\n202.1 DEFINITIONS\\nPART 203  - IMPROPER BUSINESS PRACTICES AND PERSONAL CONFLICTS OF\\nINTEREST\\n203.1 SAFEGUARDS\\n203.2 [RESERVED]\\n203.3 [RESERVED]\\n203.4 [RESERVED]\\n203.5 OTHER IMPROPER BUSINESS PRACTICES\\n203.7 VOIDING AND RESCINDING CONTRACTS\\n203.8 LIMITATIONS ON THE PAYMENT OF FUNDS TO INFLUENCE FEDERAL TRANSACTIONS\\n203.9 WHISTLEBLOWER PROTECTIONS FOR CONTRACTOR EMPLOYEES\\n203.10 CONTRACTOR CODE OF BUSINESS ETHICS AND CONDUCT\\n203.70 Reserved\\nPART 204  - ADMINISTRATIVE AND INFORMATION MATTERS\\n204.1 CONTRACT EXECUTION\\n204.2 CONTRACT DISTRIBUTION\\n204.4 SAFEGUARDING CLASSIFIED INFORMATION WITHIN INDUSTRY\\n204.6 CONTRACT REPORTING\\n204.8 CONTRACT FILES\\n204.9 TAXPAYER IDENTIFICATION NUMBER INFORMATION\\n204.11 SYSTEM FOR AWARD MANAGEMENT\\n204.12 ANNUAL REPRESENTATIONS AND CERTIFICATIONS\\n204.16 UNIFORM PROCUREMENTINSTRUMENT IDENTIFIERS\\n204.17 SERVICE CONTRACTS INVENTORY\\n204.18 COMMERCIAL AND GOVERNMENT ENTITY CODE\\n204.21 PROHIBITION ON CONTRACTING FOR CERTAIN TELECOMMUNICATIONS AND VIDEO\\nSURVEILLANCE SERVICES OR EQUIPMENT\\n204.70 PROCUREMENT ACQUISITIONLEAD TIME\\n204.71 UNIFORM CONTRACT LINE ITEM NUMBERING SYSTEM\\n204.72 ANTITERRORISM AWARENESS TRAINING\\ni'), Document(metadata={'source': './docs/DFARS.pdf', 'page': 7}, page_content='STRUCTURE DEFENSE  FEDERAL  ACQUISITION  REGULATION\\n204.73 SAFEGUARDING COVERED DEFENSE INFORMATION AND CYBER INCIDENT REPORTING\\n204.74 DISCLOSURE OF INFORMATION TO LITIGATION SUPPORT CONTRACTORS\\n204.75 CYBERSECURITY MATURITY MODEL CERTIFICATION\\n204.76 SUPPLIER PERFORMANCE RISK SYSTEM\\nPART 205  - PUBLICIZING CONTRACT ACTIONS\\n205.2 SYNOPSES OF PROPOSED CONTRACT ACTIONS\\n205.3 SYNOPSES OF CONTRACT AWARDS\\n205.4 RELEASE OF INFORMATION\\n205.5 PAID ADVERTISEMENTS\\nSUBCHAPTER  B  - ACQUISITION PLANNING\\nPART 206  - COMPETITION REQUIREMENTS\\n206.1 FULL AND OPEN COMPETITION\\n206.2 FULL AND OPEN COMPETITION AFTER EXCLUSION OF SOURCES\\n206.3 OTHER THAN FULL AND OPEN COMPETITION\\nPART 207  - ACQUISITION PLANNING\\n207.1 ACQUISITION PLANS\\n207.3 CONTRACTOR VERSUS GOVERNMENT PERFORMANCE\\n207.4 EQUIPMENT ACQUISITION\\n207.5 INHERENTLY GOVERNMENTAL FUNCTIONS\\n207.70 BUY-TO-BUDGET - ADDITIONAL QUANTITIES OF END ITEMS\\nPART 208  - REQUIRED SOURCES OF SUPPLIES AND SERVICES\\n208.4 FEDERAL SUPPLY SCHEDULES\\n208.6 ACQUISITION FROM FEDERAL PRISON INDUSTRIES, INC.\\n208.7 ACQUISITION FROM NONPROFIT AGENCIES EMPLOYING PEOPLE WHO ARE BLIND OR\\nSEVERELY DISABLED\\n208.70 COORDINATED ACQUISITION\\n208.71 ACQUISITION FOR NATIONAL AERONAUTICS AND SPACE ADMINISTRATION (NASA)\\n208.72 Reserved\\n208.73 USE OF GOVERNMENT-OWNED PRECIOUS METALS\\n208.74 ENTERPRISE SOFTWARE AGREEMENTS\\nPART 209  - CONTRACTOR QUALIFICATIONS\\n209.1 RESPONSIBLE PROSPECTIVE CONTRACTORS\\n209.2 QUALIFICATIONS REQUIREMENTS\\n209.3 Reserved\\n209.4 DEBARMENT, SUSPENSION, AND INELIGIBILITY\\n209.5 ORGANIZATIONAL AND CONSULTANT CONFLICTS OF INTEREST\\nPART 210  - MARKET RESEARCH\\nPART 211  - DESCRIBING AGENCY NEEDS\\nii'), Document(metadata={'source': './docs/DFARS.pdf', 'page': 8}, page_content='DEFENSE  FEDERAL  ACQUISITION  REGULATION STRUCTURE\\n211.1 SELECTING AND DEVELOPING REQUIREMENTS DOCUMENTS\\n211.2 USING AND MAINTAINING REQUIREMENTS DOCUMENTS\\n211.5 LIQUIDATED DAMAGES\\n211.6 PRIORITIES AND ALLOCATIONS\\n211.70 PURCHASE REQUESTS\\nPART 212  - ACQUISITION OF COMMERCIAL PRODUCTS AND COMMERCIAL SERVICES\\n212.1 ACQUISITION OF COMMERCIAL PRODUCTS AND COMMERCIAL SERVICES\\n212.2 SPECIAL REQUIREMENTS FOR THE ACQUISITION OF COMMERCIAL PRODUCTS AND\\nCOMMERCIAL SERVICES\\n212.3 SOLICITATION PROVISIONS AND CONTRACT CLAUSES FOR THE ACQUISITION OF\\nCOMMERCIAL PRODUCTS AND COMMERCIAL SERVICES\\n212.5 APPLICABILITY OF CERTAIN LAWS TO THE ACQUISITION OFCOMMERCIAL PRODUCTS,\\nCOMMERCIAL SERVICES, AND COMMERCIALLY AVAILABLEOFF-THE-SHELF ITEMS\\n212.6 STREAMLINED PROCEDURES FOR EVALUATION AND SOLICITATION FOR COMMERCIAL\\nPRODUCTS AND COMMERCIAL SERVICES\\n212.70 DEFENSE COMMERCIAL SOLUTIONS OPENING\\n212.71 RESERVED\\nSUBCHAPTER  C  - CONTRACTING METHODS AND CONTRACT TYPES\\nPART 213  - SIMPLIFIED ACQUISITION PROCEDURES\\n213.1 PROCEDURES\\n213.2 ACTIONS AT OR BELOW THE MICRO-PURCHASE THRESHOLD\\n213.3 SIMPLIFIED ACQUISITION METHODS\\n213.4 FAST PAYMENT PROCEDURE\\n213.5 SIMPLIFIED PROCEDURES FOR CERTAIN COMMERCIAL PRODUCTS AND COMMERCIAL\\nSERVICES\\n213.70 SIMPLIFIED ACQUISITION PROCEDURES UNDER THE 8(A) PROGRAM\\nPART 214  - SEALED BIDDING\\n214.2 SOLICITATION OF BIDS\\n214.4 OPENING OF BIDS AND AWARD OF CONTRACT\\n214.5 TWO-STEP SEALED BIDDING\\nPART 215  - CONTRACTING BY NEGOTIATION\\n215.1 SOURCE SELECTION PROCESSES AND TECHNIQUES\\n215.2 SOLICITATION AND RECEIPT OF PROPOSALS AND INFORMATION\\n215.3 SOURCE SELECTION\\n215.4 CONTRACT PRICING\\n215.5 PREAWARD, AWARD, AND POSTAWARD NOTIFICATIONS, PROTESTS, AND MISTAKES\\n215.6 UNSOLICITED PROPOSALS\\nPART 216  - TYPES OF CONTRACTS\\n216.1 SELECTING CONTRACT TYPES\\n216.2 FIXED-PRICE CONTRACTS\\n216.3 COST-REIMBURSEMENT CONTRACTS\\niii'), Document(metadata={'source': './docs/DFARS.pdf', 'page': 9}, page_content='STRUCTURE DEFENSE  FEDERAL  ACQUISITION  REGULATION\\n216.4 INCENTIVE CONTRACTS\\n216.5 INDEFINITE-DELIVERY CONTRACTS\\n216.6 TIME-AND-MATERIALS, LABOR-HOUR, AND LETTER CONTRACTS\\n216.7 AGREEMENTS\\nPART 217  - SPECIAL CONTRACTING METHODS\\n217.1 MULTIYEAR CONTRACTING\\n217.2 OPTIONS\\n217.4 Reserved\\n217.5 INTERAGENCY ACQUISITIONS\\n217.6 MANAGEMENT AND OPERATING CONTRACTS\\n217.7 INTERAGENCY ACQUISITIONS: ACQUISITIONS BY NONDEFENSE AGENCIES ON BEHALF OF\\nTHE DEPARTMENT OF DEFENSE\\n217.70 EXCHANGE OF PERSONAL PROPERTY\\n217.71 MASTER AGREEMENT FOR REPAIR AND ALTERATION OF VESSELS\\n217.72 Reserved\\n217.73 IDENTIFICATION OF SOURCES OF SUPPLY\\n217.74 UNDEFINITIZED CONTRACT ACTIONS\\n217.75 ACQUISITION OF REPLENISHMENT PARTS\\n217.76 CONTRACTS WITH PROVISIONING REQUIREMENTS\\n217.77 OVER AND ABOVE WORK\\n217.78 REVERSE AUCTIONS\\nPART 218  - EMERGENCY ACQUISITIONS\\n218.1 AVAILABLE ACQUISITION FLEXIBILITIES\\n218.2 EMERGENCY ACQUISITION FLEXIBILITIES\\nSUBCHAPTER  D  - SOCIOECONOMIC PROGRAMS\\nPART 219  - SMALL BUSINESS PROGRAMS\\n219.2 POLICIES\\n219.3 DETERMINATION OF SMALL BUSINESS STATUS FOR\\n219.4 COOPERATION WITH THE SMALL BUSINESS ADMINISTRATION\\n219.5 SMALL BUSINESS TOTALSET-ASIDES, PARTIAL SET-ASIDES, AND RESERVES\\n219.6 CERTIFICATES OF COMPETENCY AND DETERMINATIONS OF RESPONSIBILITY\\n219.7 THE SMALL BUSINESS SUBCONTRACTING PROGRAM\\n219.8 CONTRACTING WITH THE SMALL BUSINESS ADMINISTRATION (THE 8(A) PROGRAM)\\n219.10 Reserved\\n219.11 Reserved\\n219.12 Reserved\\n219.13 HISTORICALLY UNDERUTILIZED BUSINESS ZONE (HUBZONE) PROGRAM\\n219.70 RESERVED\\n219.71 PILOT MENTOR-PROTEGE PROGRAM\\n219.72 (REMOVED)\\nPART 220  - RESERVED\\nPART 221  - RESERVED\\niv'), Document(metadata={'source': './docs/DFARS.pdf', 'page': 10}, page_content='DEFENSE  FEDERAL  ACQUISITION  REGULATION STRUCTURE\\nPART 222  - APPLICATION OF LABOR LAWS TO GOVERNMENT ACQUISITIONS\\n222.1 BASIC LABOR POLICIES\\n222.3 CONTRACT WORK HOURS AND SAFETY STANDARDS\\n222.4 LABOR STANDARDS FOR CONTRACTS INVOLVING CONSTRUCTION\\n222.6 CONTRACTS FOR MATERIALS, SUPPLIES, ARTICLES, AND EQUIPMENT\\n222.8 EQUAL EMPLOYMENT OPPORTUNITY\\n222.10 SERVICE CONTRACT LABOR STANDARDS\\n222.13 EQUAL OPPORTUNITY FOR VETERANS\\n222.14 EMPLOYMENT OF WORKERS WITH DISABILITIES\\n222.17 COMBATING TRAFFICKING IN PERSONS\\n222.70 RESTRICTIONS ON THE EMPLOYMENT OF PERSONNEL FOR WORK ON CONSTRUCTION AND\\nSERVICE CONTRACTS IN NONCONTIGUOUS STATES\\n222.71 RESERVED\\n222.72 COMPLIANCE WITH LABOR LAWS OF FOREIGN GOVERNMENTS\\n222.73 LIMITATIONS APPLICABLE TO CONTRACTS PERFORMED ON GUAM\\n222.74 RESTRICTIONS ON THE USE OF MANDATORYARBITRATION AGREEMENTS\\nPART 223  - ENVIRONMENT, ENERGY AND WATER EFFICIENCY, RENEWABLEENERGY\\nTECHNOLOGIES, OCCUPATIONAL SAFETY, AND DRUG-FREE WORKPLACE\\n223.1 Reserved\\n223.2 ENERGY AND WATER EFFICIENCY AND RENEWABLE ENERGY\\n223.3 HAZARDOUS MATERIAL IDENTIFICATION AND MATERIAL SAFETY DATA\\n223.4 USE OF RECOVERED MATERIALS AND BIOBASED PRODUCTS\\n223.5 DRUG-FREE WORKPLACE\\n223.7 CONTRACTING FOR ENVIRONMENTALLY PREFERABLE PRODUCTS AND SERVICES\\n223.8 OZONE-DEPLETING SUBSTANCES AND GREENHOUSE GASES\\n223.70 RESERVED\\n223.71 STORAGE, TREATMENT, AND DISPOSAL OF TOXIC OR HAZARDOUS MATERIALS\\n223.72 SAFEGUARDING SENSITIVE CONVENTIONAL ARMS, AMMUNITION, AND EXPLOSIVES\\n223.73 MINIMIZING THE USE OF MATERIALS CONTAINING HEXAVALENT CHROMIUM\\n223.74 PROHIBITION ON PROCUREMENT OF CERTAIN ITEMS CONTAINING PERFLUOROALKYL OR\\nPOLYFLUOROALKYL SUBSTANCES\\nPART 224  - PROTECTION OF PRIVACY AND FREEDOM OF INFORMATION\\n224.1 PROTECTION OF INDIVIDUAL PRIVACY\\n224.2 FREEDOM OF INFORMATION ACT\\nPART 225  - FOREIGN ACQUISITION\\n225.1 BUY AMERICAN—SUPPLIES\\n225.2 BUY AMERICAN—CONSTRUCTIONMATERIALS\\n225.3 CONTRACTS PERFORMED OUTSIDE THE UNITED STATES\\n225.4 TRADE AGREEMENTS\\n225.5 EVALUATING FOREIGN OFFERS—SUPPLY CONTRACTS\\n225.6 Reserved\\n225.7 PROHIBITED SOURCES\\n225.8 OTHER INTERNATIONAL AGREEMENTS AND COORDINATION\\n225.9 CUSTOMS AND DUTIES\\n225.10 ADDITIONAL FOREIGN ACQUISITION REGULATIONS\\n225.11 SOLICITATION PROVISIONS AND CONTRACT CLAUSES\\nv'), Document(metadata={'source': './docs/DFARS.pdf', 'page': 11}, page_content='STRUCTURE DEFENSE  FEDERAL  ACQUISITION  REGULATION\\n225.70 AUTHORIZATION ACTS, APPROPRIATIONS ACTS, AND OTHER STATUTORY RESTRICTIONS ON\\nFOREIGN ACQUISITION\\n225.71 OTHER RESTRICTIONS ON FOREIGN ACQUISITION\\n225.72 REPORTING CONTRACT PERFORMANCE OUTSIDE THE UNITED STATES\\n225.73 ACQUISITIONS FOR FOREIGN MILITARY SALES\\n225.74 Reserved\\n225.75 BALANCE OF PAYMENTS PROGRAM\\n225.76 SECONDARY ARAB BOYCOTT OF ISRAEL\\n225.77 ACQUISITIONS IN SUPPORT OF OPERATIONS IN AFGHANISTAN\\n225.78 ACQUISITIONS IN SUPPORT OF GEOGRAPHIC COMBATANT COMMANDS THEATER SECURITY\\nCOOPERATION EFFORTS\\n225.79 EXPORT CONTROL\\nPART 226  - OTHER SOCIOECONOMIC PROGRAMS\\n226.1 INDIAN INCENTIVE PROGRAM\\n226.3 Reserved\\n226.70 RESERVED\\n226.71 PREFERENCE FOR LOCAL AND SMALL BUSINESSES\\n226.72 DEMONSTRATIONPROJECT FOR CONTRACTORS EMPLOYING PERSONS WITH DISABILITIES\\nSUBCHAPTER  E  - GENERAL CONTRACTING REQUIREMENTS\\nPART 227  - PATENTS, DATA, AND COPYRIGHTS\\n227.3 PATENT RIGHTS UNDER GOVERNMENT CONTRACTS\\n227.4 RIGHTS IN DATA AND COPYRIGHTS\\n227.6 FOREIGN LICENSE AND TECHNICAL ASSISTANCE AGREEMENTS\\n227.70 INFRINGEMENT CLAIMS, LICENSES, AND ASSIGNMENTS\\n227.71 TECHNICAL DATA AND ASSOCIATED RIGHTS\\n227.72 COMPUTER SOFTWARE, COMPUTER SOFTWARE DOCUMENTATION, AND ASSOCIATED RIGHTS\\nPART 228  - BONDS AND INSURANCE\\n228.1 BONDS AND OTHERFINANCIAL PROTECTIONS\\n228.3 INSURANCE\\nPART 229  - TAXES\\n229.1 GENERAL\\n229.2 FEDERAL EXCISE TAXES\\n229.4 CONTRACT CLAUSES\\n229.70 SPECIAL PROCEDURES FOR OVERSEAS CONTRACTS\\nPART 230  - COST ACCOUNTING STANDARDS\\n230.2 CAS PROGRAM REQUIREMENTS\\n230.70 Reserved\\n230.71 Reserved\\nPART 231  - CONTRACT COST PRINCIPLES AND PROCEDURES\\nvi'), Document(metadata={'source': './docs/DFARS.pdf', 'page': 12}, page_content='DEFENSE  FEDERAL  ACQUISITION  REGULATION STRUCTURE\\n231.1 APPLICABILITY\\n231.2 CONTRACTS WITH COMMERCIAL ORGANIZATIONS\\n231.3 CONTRACTS WITH EDUCATIONAL INSTITUTIONS\\n231.6 CONTRACTS WITH STATE, LOCAL, AND FEDERALLY\\n231.7 CONTRACTS WITH NONPROFIT ORGANIZATIONS\\nPART 232  - CONTRACT FINANCING\\n232.1 FINANCING FOR OTHER THAN A COMMERCIAL PURCHASE\\n232.2 COMMERCIAL PRODUCT AND COMMERCIAL SERVICE PURCHASE FINANCING\\n232.3 LOAN GUARANTEES FOR DEFENSE PRODUCTION\\n232.4 ADVANCE PAYMENTS FOR OTHER THAN COMMERCIAL ACQUISITIONS\\n232.5 PROGRESS PAYMENTS BASED ON COSTS\\n232.6 CONTRACT DEBTS\\n232.7 CONTRACT FUNDING\\n232.8 ASSIGNMENT OF CLAIMS\\n232.9 PROMPT PAYMENT\\n232.10 PERFORMANCE-BASED PAYMENTS\\n232.11 ELECTRONIC FUNDS TRANSFER\\n232.70 ELECTRONIC SUBMISSION AND PROCESSING OF PAYMENT REQUESTS AND RECEIVING\\nREPORTS\\n232.71 LEVIES ON CONTRACT PAYMENTS\\n232.72 Reserved\\nPART 233  - PROTESTS, DISPUTES, AND APPEALS\\n233.1 PROTESTS\\n233.2 DISPUTES AND APPEALS\\nSUBCHAPTER  F  - SPECIAL CATEGORIES OF CONTRACTING\\nPART 234  - MAJOR SYSTEM ACQUISITION\\n234.2 EARNED VALUE MANAGEMENT SYSTEM\\n234.70 ACQUISITION OF MAJOR WEAPON SYSTEMS AS COMMERCIAL PRODUCTS\\n234.71 COST AND SOFTWARE DATA REPORTING\\nPART 235  - RESEARCH AND DEVELOPMENT CONTRACTING\\n235.70 Reserved\\nPART 236  - CONSTRUCTION AND ARCHITECT — ENGINEER CONTRACTS\\n236.1 GENERAL\\n236.2 SPECIAL ASPECTS OF CONTRACTING FOR CONSTRUCTION\\n236.3 TWO-PHASE DESIGN-BUILD SELECTION PROCEDURES\\n236.4 Reserved\\n236.5 CONTRACT CLAUSES\\n236.6 ARCHITECT-ENGINEER SERVICES\\n236.7 STANDARD AND OPTIONAL FORMS FOR CONTRACTING FOR CONSTRUCTION, ARCHITECT-\\nENGINEER SERVICES, AND DISMANTLING, DEMOLITION, OR REMOVAL OF IMPROVEMENTS\\nvii')]\n"
     ]
    }
   ],
   "source": [
    "loader = PyPDFLoader(\"./docs/DFARS.pdf\")\n",
    "documents = loader.load_and_split()\n",
    "text_splitter = RecursiveCharacterTextSplitter(separators=[\"\\n\\n\", \"\\n\", \" \", \"\"], chunk_size=2000, chunk_overlap=200)\n",
    "documents = text_splitter.split_documents(documents)"
   ]
  },
  {
   "cell_type": "code",
   "execution_count": null,
   "metadata": {},
   "outputs": [],
   "source": [
    "embedding_model = SentenceTransformerEmbeddingModel(model=\"all-mpnet-base-v2\")\n",
    "\n",
    "try:\n",
    "    vector_store = FAISSVectorStore.load_local(\"./docs\", \"job_embeddings\")\n",
    "except:\n",
    "    vector_store = FAISSVectorStore.from_documents(\n",
    "        documents=documents,\n",
    "        embedding_model=embedding_model,\n",
    "        distance_metric=DistanceMetric.COSINE_SIMILARITY,\n",
    "    )\n",
    "    vector_store.save_local(\"./data\", \"job_embeddings\")"
   ]
  },
  {
   "cell_type": "code",
   "execution_count": null,
   "metadata": {},
   "outputs": [],
   "source": [
    "def format_documents(documents: list[Document]) -> str:\n",
    "    \"\"\"Formats the documents for the LLM prompt.\"\"\"\n",
    "    template = (\n",
    "        \"Document\\n\"\n",
    "        \"--------\\n\"\n",
    "        \"Metadata: {metadata}\\n\"\n",
    "        \"Content:\\n{page_content}\"\n",
    "    )\n",
    "    return \"\\n\\n\".join([template.format(metadata=document.metadata, page_content=document.page_content) for document in documents])\n",
    "\n",
    "def get_relevant_documents(self, query: str, fetch_k: int = 5) -> str:\n",
    "    \"\"\"Gets relevant documents.\"\"\"\n",
    "    documents = self.vector_store.similarity_search(query, fetch_k)\n",
    "    documents = [document for document, _ in documents]\n",
    "    return format_documents(documents)"
   ]
  },
  {
   "cell_type": "code",
   "execution_count": 8,
   "metadata": {},
   "outputs": [],
   "source": [
    "system_prompt = \"\"\"Your primary task is to search through the DFARS to identify and retrieve relevant regulations, rules, and guidelines that must be followed for a draft of a contract section.\"\"\"\n",
    "\n",
    "prompt = \"\"\"Draft:\n",
    "{draft}\"\"\"\n",
    "\n",
    "llm = OpenAILanguageModel(\n",
    "    proxy_client=proxy_client,\n",
    "    model='gpt-4',\n",
    "    max_tokens=2000,\n",
    "    temperature=0.2,\n",
    ")\n",
    "\n",
    "class Regulations(BaseModel):\n",
    "    page_number: int = Field(description=\"The page where you found the information\")\n",
    "    regulation: str = Field(description=\"The relevant bits of the regulation\")\n",
    "\n",
    "find_regulations = Agent.create(\n",
    "    llm=llm,\n",
    "    system_prompt=system_prompt,\n",
    "    prompt=prompt,\n",
    "    prompt_variables=[\"draft\"],\n",
    "    tools=None,\n",
    "    output_type=OutputType.ARRAY_STRUCT,\n",
    "    output_schema=Regulations,\n",
    "    prompting_strategy=PromptingStrategy.CHAIN_OF_THOUGHT,\n",
    "    verbose=True,\n",
    ")"
   ]
  },
  {
   "cell_type": "markdown",
   "metadata": {},
   "source": []
  },
  {
   "cell_type": "code",
   "execution_count": null,
   "metadata": {},
   "outputs": [],
   "source": [
    "system_prompt = \"\"\"You are tasked with refining contract sections based on relevant regulations from the Defense Federal Acquisition Regulation Supplement (DFARS).\n",
    "\n",
    "You will receive a draft of a contract section along with specific DFARS regulations.\n",
    "\n",
    "Your job is to incorporate these regulations into the draft, ensuring accuracy, clarity, and compliance.\n",
    "\n",
    "Where regulations are applied, include the corresponding DFARS page number in brackets to provide clear references.\"\"\"\n",
    "\n",
    "prompt = \"\"\"Draft:\n",
    "{draft}\n",
    "\n",
    "Relevant regulations:\n",
    "{regulations}\"\"\"\n",
    "\n",
    "llm = OpenAILanguageModel(\n",
    "    proxy_client=proxy_client,\n",
    "    model='gpt-4',\n",
    "    max_tokens=2000,\n",
    "    temperature=0.2,\n",
    ")\n",
    "\n",
    "class ContractSection(BaseModel):\n",
    "    title: str = Field(description=\"The title for the contract section\")\n",
    "    content: str = Field(description=\"The refined content for the contract section\")\n",
    "\n",
    "refine_contract_section = Agent.create(\n",
    "    llm=llm,\n",
    "    system_prompt=system_prompt,\n",
    "    prompt=prompt,\n",
    "    prompt_variables=[\"context\"],\n",
    "    output_type=OutputType.OBJECT,\n",
    "    prompting_strategy=PromptingStrategy.SINGLE_COMPLETION,\n",
    "    verbose=True,\n",
    ")"
   ]
  },
  {
   "cell_type": "markdown",
   "metadata": {},
   "source": []
  },
  {
   "cell_type": "code",
   "execution_count": null,
   "metadata": {},
   "outputs": [],
   "source": [
    "class Inputs(BaseModel):\n",
    "    goal: str = Field(description=\"The contract the user wants to draft\")\n",
    "    context: str = Field(description=\"The context provided for a section as bullet points\")\n",
    "\n",
    "workflow = Workflow(\n",
    "    name=\"Generates a contract section\",\n",
    "    description=\"Uses LLMs to generate a contract section given some context\",\n",
    "    inputs=Inputs,\n",
    "    output=\"refine_contract_section\",\n",
    "    steps=[\n",
    "        WorkflowLLMStep(name=\"draft_contract_section\", agent=draft_contract_section),\n",
    "        WorkflowLLMStep(name=\"find_regulations\", agent=find_regulations),\n",
    "        WorkflowLLMStep(name=\"refine_contract_section\", agent=refine_contract_section),\n",
    "    ]\n",
    ")"
   ]
  },
  {
   "cell_type": "markdown",
   "metadata": {},
   "source": []
  },
  {
   "cell_type": "code",
   "execution_count": null,
   "metadata": {},
   "outputs": [],
   "source": [
    "def generate_contract(contract_sections: list[str]) -> str:\n",
    "    sections = []\n",
    "    for contract_section in contract_sections:\n",
    "        output = workflow.invoke({\"section\": contract_section})\n",
    "        section = str(output.final_answer.title) + \"\\n\\n\" + str(output.final_answer.content)\n",
    "        sections.append(section)\n",
    "        contract_drafting_agent.chat.reset()\n",
    "    return \"\\n\\n\".join(sections)"
   ]
  },
  {
   "cell_type": "code",
   "execution_count": null,
   "metadata": {},
   "outputs": [],
   "source": [
    "contract = generate_contract()"
   ]
  },
  {
   "cell_type": "markdown",
   "metadata": {},
   "source": []
  },
  {
   "cell_type": "code",
   "execution_count": null,
   "metadata": {},
   "outputs": [],
   "source": [
    "def render_reasoning(output):\n",
    "    for i, step in enumerate(output.steps):\n",
    "        names = {\n",
    "            \"system_prompt\": \"System Prompt\",\n",
    "            \"prompting_strategy\": \"Prompting Strategy\",\n",
    "            \"prompt\": \"Prompt\",\n",
    "            \"raw_output\": \"Raw Output\",\n",
    "            \"observation\": \"Observation\",\n",
    "            \"final_answer\": \"Final Answer\",\n",
    "            \"tool_use\": \"Tool Use\",\n",
    "            \"tool_output\": \"Tool Output\",\n",
    "        }\n",
    "        string = \"Use LLM\"\n",
    "        print(string)\n",
    "        print(\"=\" * len(string))\n",
    "        print()\n",
    "        for entry in step.steps:\n",
    "            print(names[entry.name])\n",
    "            print(\"-\" * len(entry.name))\n",
    "            if entry.name == \"tool_use\":\n",
    "                print(f\"Thought: {entry.content.thought}\")\n",
    "                print()\n",
    "                print(f\"Used: {entry.content.used}\")\n",
    "                print()\n",
    "                print(f\"Arguments: {entry.content.arguments}\")\n",
    "            elif entry.name == 'final_answer':\n",
    "                if entry.content.thought is not None:\n",
    "                    print(f\"Thought: {entry.content.thought}\")\n",
    "                    print()\n",
    "                print(f\"Output: {entry.content.output}\")\n",
    "            else:\n",
    "                print(entry.content)\n",
    "\n",
    "            if entry.name != \"final_answer\" or i != len(output.steps) - 1:\n",
    "                print()"
   ]
  }
 ],
 "metadata": {
  "kernelspec": {
   "display_name": "llm-powered-ai-agents",
   "language": "python",
   "name": "python3"
  },
  "language_info": {
   "codemirror_mode": {
    "name": "ipython",
    "version": 3
   },
   "file_extension": ".py",
   "mimetype": "text/x-python",
   "name": "python",
   "nbconvert_exporter": "python",
   "pygments_lexer": "ipython3",
   "version": "3.12.4"
  }
 },
 "nbformat": 4,
 "nbformat_minor": 2
}
